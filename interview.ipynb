{
 "cells": [
  {
   "cell_type": "code",
   "execution_count": 1,
   "id": "8c104e81",
   "metadata": {},
   "outputs": [
    {
     "name": "stdout",
     "output_type": "stream",
     "text": [
      "Camera ID: camera_0\n",
      "  fx=800.0000, fy=800.0000, cx=320.00, cy=240.00\n",
      "  Rotation angles (rad): [0.0, 0.0, 0.0]\n",
      "  Translation (t): [[0], [0], [0]]\n",
      "Camera ID: camera_0\n",
      "  fx=807.0000, fy=797.0000, cx=324.00, cy=247.00\n",
      "  Rotation angles (rad): [-0.005019308067858219, 0.010206499136984348, 0.005013196263462305]\n",
      "  Translation (t): [[-0.1913280189037323], [-0.17249178886413574], [-0.05622875317931175]]\n"
     ]
    }
   ],
   "source": [
    "import torch\n",
    "from data.dataloader import load_cameras\n",
    "\n",
    "# Load cameras from JSON file\n",
    "cameras, _ = load_cameras('data/cameras.json')\n",
    "noisy_cameras, _ = load_cameras('data/cameras_noisy.json')\n",
    "\n",
    "print(cameras[0])\n",
    "print(noisy_cameras[0])\n"
   ]
  },
  {
   "cell_type": "code",
   "execution_count": 2,
   "id": "1cb18c76",
   "metadata": {},
   "outputs": [
    {
     "name": "stdout",
     "output_type": "stream",
     "text": [
      "3D World Points:\n",
      "tensor([[ 1.,  2., 10.],\n",
      "        [ 0.,  0.,  5.],\n",
      "        [ 2., -1.,  8.],\n",
      "        [-3.,  4., 12.],\n",
      "        [ 5.,  5., 15.]], dtype=torch.float64)\n",
      "\n"
     ]
    }
   ],
   "source": [
    "# 3D points in world coordinates\n",
    "# 5 world points, each row is (x, y, z) in meters\n",
    "X_world = torch.tensor([\n",
    "    [1, 2, 10],\n",
    "    [0, 0, 5],\n",
    "    [2, -1, 8],\n",
    "    [-3, 4, 12],\n",
    "    [5, 5, 15]\n",
    "], dtype=torch.double)\n",
    "\n",
    "print(\"3D World Points:\")\n",
    "print(f\"{X_world}\")\n",
    "print()"
   ]
  },
  {
   "cell_type": "code",
   "execution_count": 3,
   "id": "3d3ff39c",
   "metadata": {},
   "outputs": [
    {
     "name": "stdout",
     "output_type": "stream",
     "text": [
      "Camera ID: 0\n",
      "------------------------------------------------------------\n",
      "Projected pixel coordinates (u, v):\n",
      "tensor([[400.0000, 400.0000, 397.2321, 398.2323],\n",
      "        [320.0000, 240.0000, 301.0868, 223.2569],\n",
      "        [520.0000, 140.0000, 516.9121, 134.1895],\n",
      "        [120.0000, 506.6667, 115.4621, 505.2274],\n",
      "        [586.6667, 506.6667, 591.9404, 511.1877]], dtype=torch.float64)\n",
      "Mean Error: 9.366 px\n",
      "\n",
      "Camera ID: 1\n",
      "------------------------------------------------------------\n",
      "Projected pixel coordinates (u, v):\n",
      "tensor([[375.0000, 350.0000, 369.2070, 336.2177],\n",
      "        [300.0000, 200.0000, 294.1527, 184.2755],\n",
      "        [487.5000, 106.2500, 474.8299,  94.0903],\n",
      "        [112.5000, 450.0000, 117.6846, 437.4331],\n",
      "        [550.0000, 450.0000, 540.4824, 437.1824]], dtype=torch.float64)\n",
      "Mean Error: 15.769 px\n",
      "\n",
      "Camera ID: 2\n",
      "------------------------------------------------------------\n",
      "Projected pixel coordinates (u, v):\n",
      "tensor([[485.0000, 470.0000, 477.0167, 455.6600],\n",
      "        [400.0000, 300.0000, 388.9525, 286.4084],\n",
      "        [612.5000, 193.7500, 603.5824, 188.9540],\n",
      "        [187.5000, 583.3333, 181.8992, 564.0841],\n",
      "        [683.3333, 583.3333, 674.4675, 569.4098]], dtype=torch.float64)\n",
      "Mean Error: 16.121 px\n",
      "\n",
      "Camera ID: 3\n",
      "------------------------------------------------------------\n",
      "Projected pixel coordinates (u, v):\n",
      "tensor([[320.0000, 390.0000, 323.1611, 372.6415],\n",
      "        [250.0000, 250.0000, 250.8838, 228.2148],\n",
      "        [425.0000, 162.5000, 431.0106, 148.5361],\n",
      "        [ 75.0000, 483.3333,  74.8070, 463.6156],\n",
      "        [483.3333, 483.3333, 488.5802, 465.5389]], dtype=torch.float64)\n",
      "Mean Error: 18.584 px\n",
      "\n",
      "Camera ID: 4\n",
      "------------------------------------------------------------\n",
      "Projected pixel coordinates (u, v):\n",
      "tensor([[540.0000, 530.0000, 551.5371, 551.5043],\n",
      "        [450.0000, 350.0000, 457.4973, 362.4453],\n",
      "        [675.0000, 237.5000, 695.9027, 245.4867],\n",
      "        [225.0000, 650.0000, 225.3568, 671.1317],\n",
      "        [750.0000, 650.0000, 768.3040, 678.7553]], dtype=torch.float64)\n",
      "Mean Error: 23.306 px\n",
      "\n"
     ]
    }
   ],
   "source": [
    "# Project the 3D point to all cameras\n",
    "for cam_id in range(len(cameras)):  \n",
    "    print(f\"Camera ID: {cam_id}\")\n",
    "    print(\"-\" * 60)\n",
    "    \n",
    "    # Project the point using the camera's method\n",
    "    uv = cameras[cam_id].project_to_image(X_world)\n",
    "    uv_noisy = noisy_cameras[cam_id].project_to_image(X_world)\n",
    "    \n",
    "    print(\"Projected pixel coordinates (u, v):\")\n",
    "    print(torch.cat([uv, uv_noisy], dim=1))\n",
    "\n",
    "    error = torch.norm(uv - uv_noisy, dim=1)\n",
    "    print(f\"Mean Error: {error.mean().item():3.3f} px\")\n",
    "\n",
    "    print()"
   ]
  },
  {
   "cell_type": "code",
   "execution_count": null,
   "id": "36a1a330",
   "metadata": {},
   "outputs": [],
   "source": [
    "'''\n",
    "Assume you have \n",
    "- A list of noisy cameras \n",
    "- A list of 3D world points\n",
    "- A list of projected pixels (Actual pixel coordinates)\n",
    "\n",
    "Q: How would you design a pytorch model to optimize the camera parameters?\n",
    "\n",
    "Q: Write a pseudo code for main training loop\n",
    "Q: What are learnable parameters?\n",
    "Q: How would you set up the optimizer?\n",
    "Q: How would you set up the loss function?\n",
    "\n",
    "\n",
    "\n",
    "''' \n",
    " "
   ]
  }
 ],
 "metadata": {
  "kernelspec": {
   "display_name": "base",
   "language": "python",
   "name": "python3"
  },
  "language_info": {
   "codemirror_mode": {
    "name": "ipython",
    "version": 3
   },
   "file_extension": ".py",
   "mimetype": "text/x-python",
   "name": "python",
   "nbconvert_exporter": "python",
   "pygments_lexer": "ipython3",
   "version": "3.9.12"
  }
 },
 "nbformat": 4,
 "nbformat_minor": 5
}
